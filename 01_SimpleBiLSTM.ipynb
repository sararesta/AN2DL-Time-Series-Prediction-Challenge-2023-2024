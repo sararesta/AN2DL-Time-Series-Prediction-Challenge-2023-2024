{
 "cells": [
  {
   "cell_type": "markdown",
   "metadata": {
    "id": "YroBfGIgNo5k"
   },
   "source": [
    "<table width=\"100%\">\n",
    "  <tr>\n",
    "    <td>\n",
    "      <h1 style=\"text-align: left; font-size:300%;\">Homework 2 - Time Series forecasting challenge</h1>\n",
    "      <table align=\"left\">\n",
    "        <tr>\n",
    "          <td style=\"text-align: left;\">Bottazzi Daniele</td>\n",
    "          <td style=\"text-align: left;\"><a href=\"mailto:nouhaila.benhdidou@mail.polimi.it\">daniele.bottazzi@mail.polimi.it</a></td>\n",
    "        </tr>\n",
    "        <tr>\n",
    "          <td style=\"text-align: left;\">Resta Sara</td>\n",
    "          <td style=\"text-align: left;\"><a href=\"mailto:daniele.bottazzi@mail.polimi.it\">sara.resta@mail.polimi.it</a></td>\n",
    "        </tr>\n",
    "        <tr>\n",
    "          <td style=\"text-align: left;\">Saldarini Gaia</td>\n",
    "          <td style=\"text-align: left;\"><a href=\"mailto:annalisa.imperiali@mail.polimi.it\">gaia.saldarini@mail.polimi.it</a></td>\n",
    "        </tr>\n",
    "      </table>\n",
    "    </td>\n",
    "    <td width=\"20%\">\n",
    "      <div style=\"text-align: right\">\n",
    "          <br>\n",
    "        <b style=\"font-size: 120%;\">AN2DL course</b><br>\n",
    "        <b>a.y. 2023-2024</b>\n",
    "          <br><br>\n",
    "        prof. M. Matteucci<br>\n",
    "        prof. G. Boracchi<br>\n",
    "      </div>\n",
    "    </td>\n",
    "  </tr>\n",
    "</table>\n",
    "\n",
    "# Simple Bidirectional LSTM\n",
    "\n",
    " Link to dowload the `filtered_datasets` used in this Notebook: [link](https://drive.google.com/drive/folders/1FuVLBucfEEDN3pPuNTSgjwv6_3Rstn_4?usp=sharing)."
   ]
  },
  {
   "cell_type": "markdown",
   "metadata": {
    "id": "2Dn1PPU0otWB"
   },
   "source": [
    "In this homework you are asked to predict future samples of the input time series. The goal is to design and implement forecasting models to learn how to exploit past observations in the input sequences to correctly predict the future. The task is to develop a forecasting model that is able to predict several uncorrelated time series.\n",
    "\n",
    "The prerequisite is that the model exhibits generalisation capabilities in the forecasting domain, allowing it to transcend the constraints of specific time domains. This requires a model that, while specialised in forecasting, is not limited to predicting in a single or predefined time context."
   ]
  },
  {
   "cell_type": "markdown",
   "metadata": {
    "id": "omSLbdLvhDRx"
   },
   "source": [
    "### Connect to Drive"
   ]
  },
  {
   "cell_type": "code",
   "execution_count": null,
   "metadata": {
    "colab": {
     "base_uri": "https://localhost:8080/"
    },
    "executionInfo": {
     "elapsed": 23988,
     "status": "ok",
     "timestamp": 1703243465496,
     "user": {
      "displayName": "Daniele Bottazzi",
      "userId": "09764604106651777555"
     },
     "user_tz": -60
    },
    "id": "AoaLQpvChLpb",
    "outputId": "e565bd8d-34ab-43c7-b87e-7c4e6bbd9fe2"
   },
   "outputs": [
    {
     "name": "stdout",
     "output_type": "stream",
     "text": [
      "Mounted at /gdrive\n",
      "/gdrive/My Drive/Colab Notebooks/AN2DL/2023-2024/Homework 2\n"
     ]
    }
   ],
   "source": [
    "from google.colab import drive\n",
    "drive.mount('/gdrive')\n",
    "%cd /gdrive/My Drive/Colab Notebooks/AN2DL/2023-2024/Homework 2"
   ]
  },
  {
   "cell_type": "markdown",
   "metadata": {
    "id": "MdD_8Vyswkwf"
   },
   "source": [
    "### Import libraries"
   ]
  },
  {
   "cell_type": "code",
   "execution_count": null,
   "metadata": {
    "id": "D_S1JfaW8bIN"
   },
   "outputs": [],
   "source": [
    "# Fix randomness and hide warnings\n",
    "seed = 42\n",
    "\n",
    "import os\n",
    "os.environ['TF_CPP_MIN_LOG_LEVEL'] = '3'\n",
    "os.environ['PYTHONHASHSEED'] = str(seed)\n",
    "os.environ['MPLCONFIGDIR'] = os.getcwd()+'/configs/'\n",
    "\n",
    "import warnings\n",
    "warnings.simplefilter(action='ignore', category=FutureWarning)\n",
    "warnings.simplefilter(action='ignore', category=Warning)\n",
    "\n",
    "import numpy as np\n",
    "np.random.seed(seed)\n",
    "\n",
    "import logging\n",
    "\n",
    "import random\n",
    "random.seed(seed)"
   ]
  },
  {
   "cell_type": "code",
   "execution_count": null,
   "metadata": {
    "colab": {
     "base_uri": "https://localhost:8080/"
    },
    "executionInfo": {
     "elapsed": 5480,
     "status": "ok",
     "timestamp": 1703243524734,
     "user": {
      "displayName": "Daniele Bottazzi",
      "userId": "09764604106651777555"
     },
     "user_tz": -60
    },
    "id": "QfJw4zgGUTl-",
    "outputId": "32a11a87-f6c6-40f4-eac3-742682deb73a"
   },
   "outputs": [
    {
     "name": "stdout",
     "output_type": "stream",
     "text": [
      "2.15.0\n"
     ]
    }
   ],
   "source": [
    "# Import tensorflow\n",
    "import tensorflow as tf\n",
    "from tensorflow import keras as tfk\n",
    "from tensorflow.keras import layers as tfkl\n",
    "tf.autograph.set_verbosity(0)\n",
    "tf.get_logger().setLevel(logging.ERROR)\n",
    "tf.compat.v1.logging.set_verbosity(tf.compat.v1.logging.ERROR)\n",
    "tf.random.set_seed(seed)\n",
    "tf.compat.v1.set_random_seed(seed)\n",
    "print(tf.__version__)"
   ]
  },
  {
   "cell_type": "code",
   "execution_count": null,
   "metadata": {
    "id": "7TRtQ5GupYFB"
   },
   "outputs": [],
   "source": [
    "# Import other libraries\n",
    "import matplotlib.pyplot as plt\n",
    "import pandas as pd\n",
    "from sklearn.model_selection import train_test_split\n",
    "from sklearn.preprocessing import MinMaxScaler, StandardScaler, RobustScaler\n",
    "import seaborn as sns"
   ]
  },
  {
   "cell_type": "markdown",
   "metadata": {
    "id": "NcLWIZfBUd80"
   },
   "source": [
    "### Load and preprocess the dataset"
   ]
  },
  {
   "cell_type": "code",
   "execution_count": null,
   "metadata": {
    "id": "Qr7OCTrKUYnm"
   },
   "outputs": [],
   "source": [
    "# Conditional check for unzipping\n",
    "unzip = False\n",
    "\n",
    "# Unzip the 'training_dataset.zip' file if the 'unzip' flag is True\n",
    "if unzip:\n",
    "    !unzip training_dataset.zip"
   ]
  },
  {
   "cell_type": "code",
   "execution_count": null,
   "metadata": {
    "id": "daL38_wguBA0"
   },
   "outputs": [],
   "source": [
    "# Load dataset\n",
    "unique_series = np.load('filtered_datasets/filtered_series_02.npy')\n",
    "unique_valid_periods = np.load('filtered_datasets/filtered_valid_periods_02.npy')\n",
    "unique_categories = np.load('filtered_datasets/filtered_categories_02.npy')"
   ]
  },
  {
   "cell_type": "code",
   "execution_count": null,
   "metadata": {
    "colab": {
     "base_uri": "https://localhost:8080/"
    },
    "executionInfo": {
     "elapsed": 11,
     "status": "ok",
     "timestamp": 1703243627020,
     "user": {
      "displayName": "Daniele Bottazzi",
      "userId": "09764604106651777555"
     },
     "user_tz": -60
    },
    "id": "KI-u_5gw4-aM",
    "outputId": "11b1de6d-9472-4415-f31e-fcbb69bf7f25"
   },
   "outputs": [
    {
     "name": "stdout",
     "output_type": "stream",
     "text": [
      "Training data Shape: (47048, 2776)\n",
      "Valid periods data Shape: (47048, 2)\n",
      "Categories Shape: (47048,)\n"
     ]
    }
   ],
   "source": [
    "# Print the shapes of the loaded datasets\n",
    "print(\"Training data Shape:\", unique_series.shape)\n",
    "print(\"Valid periods data Shape:\", unique_valid_periods.shape)\n",
    "print(\"Categories Shape:\", unique_categories.shape)"
   ]
  },
  {
   "cell_type": "markdown",
   "metadata": {
    "id": "LnfhBcIm4J9K"
   },
   "source": [
    "## Process data"
   ]
  },
  {
   "cell_type": "code",
   "execution_count": null,
   "metadata": {
    "colab": {
     "base_uri": "https://localhost:8080/"
    },
    "executionInfo": {
     "elapsed": 252,
     "status": "ok",
     "timestamp": 1703243707701,
     "user": {
      "displayName": "Daniele Bottazzi",
      "userId": "09764604106651777555"
     },
     "user_tz": -60
    },
    "id": "Ag8AtUs54Xtd",
    "outputId": "f508e8cc-40b6-4b12-b5ff-53bd799457e3"
   },
   "outputs": [
    {
     "data": {
      "text/plain": [
       "(47048,)"
      ]
     },
     "execution_count": 10,
     "metadata": {},
     "output_type": "execute_result"
    }
   ],
   "source": [
    "# Remove padding from unique seqies\n",
    "valid_series = np.array([row[start:end+1] for row, (start, end) in zip(unique_series, unique_valid_periods)])\n",
    "valid_series.shape"
   ]
  },
  {
   "cell_type": "code",
   "execution_count": null,
   "metadata": {
    "colab": {
     "base_uri": "https://localhost:8080/"
    },
    "executionInfo": {
     "elapsed": 5,
     "status": "ok",
     "timestamp": 1703243708776,
     "user": {
      "displayName": "Daniele Bottazzi",
      "userId": "09764604106651777555"
     },
     "user_tz": -60
    },
    "id": "msgYkSMKOqM-",
    "outputId": "a6dd9708-10de-4d28-94f7-51c9fe3aab73"
   },
   "outputs": [
    {
     "name": "stdout",
     "output_type": "stream",
     "text": [
      "series_train_val shape: (42343,), categories_train_val shape: (42343,)\n",
      "series_test shape: (4705,), categories_test shape: (4705,)\n",
      "\n",
      "(array(['A', 'B', 'C', 'D', 'E', 'F'], dtype='<U1'), array([5108, 9673, 8785, 8798, 9750,  229]))\n",
      "(array(['A', 'B', 'C', 'D', 'E', 'F'], dtype='<U1'), array([ 568, 1075,  976,  978, 1083,   25]))\n"
     ]
    }
   ],
   "source": [
    "# Split into train_validation and test sets\n",
    "series_train_val, series_test, categories_train_val, categories_test = train_test_split(valid_series, unique_categories, random_state=seed, test_size=0.1, stratify=unique_categories)\n",
    "\n",
    "# Print shapes of the datasets\n",
    "print(f\"series_train_val shape: {series_train_val.shape}, categories_train_val shape: {categories_train_val.shape}\")\n",
    "print(f\"series_test shape: {series_test.shape}, categories_test shape: {categories_test.shape}\\n\")\n",
    "\n",
    "# See if stratification was succesful\n",
    "print(np.unique(categories_train_val, return_counts = True))\n",
    "print(np.unique(categories_test, return_counts = True))"
   ]
  },
  {
   "cell_type": "markdown",
   "metadata": {
    "id": "mtSzHoNCVIQb"
   },
   "source": [
    "### Process data"
   ]
  },
  {
   "cell_type": "code",
   "execution_count": null,
   "metadata": {
    "id": "YJyeEt_pn9qW"
   },
   "outputs": [],
   "source": [
    "def build_sequences_univariate(series_array, categories, window=100, stride=20, telescope=18):\n",
    "    # Sanity check to avoid runtime errors\n",
    "    assert (window + telescope) % stride == 0\n",
    "    sequences = []\n",
    "    future_sequences = []\n",
    "    seq_categories = []\n",
    "    scalers = []\n",
    "\n",
    "    for (i, series) in enumerate(series_array):\n",
    "        series_len = len(series)\n",
    "        padding_check = series_len % (window + telescope)\n",
    "\n",
    "        if padding_check != 0:\n",
    "            # Compute padding length\n",
    "            padding_len = (window + telescope) - series_len % (window + telescope)\n",
    "            padding = np.zeros(padding_len, dtype='float32')\n",
    "            series = np.concatenate((padding, series))\n",
    "            assert len(series) % (window + telescope) == 0\n",
    "\n",
    "        for idx in np.arange(0, len(series) - window, stride):\n",
    "\n",
    "            # Get a slice of window + telescope of the series\n",
    "            series_xy = series[idx:idx + window + telescope]\n",
    "\n",
    "            # Get x\n",
    "            series_x = series_xy[0:window]\n",
    "\n",
    "            # Add to the sequences\n",
    "            sequences.append(series_x)\n",
    "\n",
    "            # Get y\n",
    "            series_y = series_xy[window:window+telescope]\n",
    "\n",
    "            # Add to future sequences\n",
    "            future_sequences.append(series_y)\n",
    "\n",
    "            # Append the category label\n",
    "            seq_categories.append(categories[i])\n",
    "\n",
    "    sequences = np.array(sequences)\n",
    "    future_sequences = np.array(future_sequences)\n",
    "    seq_categories = np.array(seq_categories)\n",
    "\n",
    "    return sequences, future_sequences, seq_categories"
   ]
  },
  {
   "cell_type": "code",
   "execution_count": null,
   "metadata": {
    "id": "MHnaFzS2IF8O"
   },
   "outputs": [],
   "source": [
    "window = 180\n",
    "stride = 22"
   ]
  },
  {
   "cell_type": "code",
   "execution_count": null,
   "metadata": {
    "id": "paZ2hFRUoH1l"
   },
   "outputs": [],
   "source": [
    "telescope = 18\n",
    "direct_telescope = telescope"
   ]
  },
  {
   "cell_type": "code",
   "execution_count": null,
   "metadata": {
    "id": "aTTJYYtboUhQ"
   },
   "outputs": [],
   "source": [
    "X_train_val, y_train_val, seq_categories_train_val = build_sequences_univariate(series_train_val, categories_train_val, window = window, stride = stride, telescope = direct_telescope)"
   ]
  },
  {
   "cell_type": "code",
   "execution_count": null,
   "metadata": {
    "colab": {
     "base_uri": "https://localhost:8080/"
    },
    "executionInfo": {
     "elapsed": 8,
     "status": "ok",
     "timestamp": 1703243718899,
     "user": {
      "displayName": "Daniele Bottazzi",
      "userId": "09764604106651777555"
     },
     "user_tz": -60
    },
    "id": "RsAQ1aoa7nh9",
    "outputId": "66c871ae-060a-4fd5-cc28-bd928f355851"
   },
   "outputs": [
    {
     "name": "stdout",
     "output_type": "stream",
     "text": [
      "(42343,)\n",
      "(42343,)\n",
      "(260161, 180)\n",
      "(260161, 18)\n",
      "(260161,)\n"
     ]
    }
   ],
   "source": [
    "print(series_train_val.shape)\n",
    "print(categories_train_val.shape)\n",
    "print(X_train_val.shape)\n",
    "print(y_train_val.shape)\n",
    "print(seq_categories_train_val.shape)"
   ]
  },
  {
   "cell_type": "code",
   "execution_count": null,
   "metadata": {
    "id": "M_lWELC78seU"
   },
   "outputs": [],
   "source": [
    "X_test, y_test, seq_categories_test = build_sequences_univariate(series_test, categories_test, window = window, stride = stride, telescope = direct_telescope)"
   ]
  },
  {
   "cell_type": "code",
   "execution_count": null,
   "metadata": {
    "colab": {
     "base_uri": "https://localhost:8080/"
    },
    "executionInfo": {
     "elapsed": 396,
     "status": "ok",
     "timestamp": 1703243731991,
     "user": {
      "displayName": "Daniele Bottazzi",
      "userId": "09764604106651777555"
     },
     "user_tz": -60
    },
    "id": "NY5raCwT0hqx",
    "outputId": "4db51efc-e62a-4b41-c7d0-d9475e33ae8d"
   },
   "outputs": [
    {
     "name": "stdout",
     "output_type": "stream",
     "text": [
      "(4705,)\n",
      "(4705,)\n",
      "(30067, 180)\n",
      "(30067, 18)\n",
      "(30067,)\n"
     ]
    }
   ],
   "source": [
    "print(series_test.shape)\n",
    "print(categories_test.shape)\n",
    "print(X_test.shape)\n",
    "print(y_test.shape)\n",
    "print(seq_categories_test.shape)"
   ]
  },
  {
   "cell_type": "code",
   "execution_count": null,
   "metadata": {
    "id": "QX8CdjwylRpM"
   },
   "outputs": [],
   "source": [
    "# Split train_validation sequences into train and validation sets\n",
    "X_train, X_val, y_train, y_val, seq_categories_train, seq_categories_val = train_test_split(X_train_val, y_train_val, seq_categories_train_val,\n",
    "                                                                                            shuffle=True, random_state=seed, test_size=0.2, stratify=seq_categories_train_val)"
   ]
  },
  {
   "cell_type": "code",
   "execution_count": null,
   "metadata": {
    "id": "mBIJZ-wAHDYX"
   },
   "outputs": [],
   "source": [
    "# Expand dimensions\n",
    "X_train = np.expand_dims(X_train, axis=-1)\n",
    "X_val = np.expand_dims(X_val, axis=-1)\n",
    "X_test = np.expand_dims(X_test, axis=-1)\n",
    "\n",
    "y_train = np.expand_dims(y_train, axis=-1)\n",
    "y_val = np.expand_dims(y_val, axis=-1)\n",
    "y_test = np.expand_dims(y_test, axis=-1)"
   ]
  },
  {
   "cell_type": "code",
   "execution_count": null,
   "metadata": {
    "colab": {
     "base_uri": "https://localhost:8080/"
    },
    "executionInfo": {
     "elapsed": 8,
     "status": "ok",
     "timestamp": 1703243741519,
     "user": {
      "displayName": "Daniele Bottazzi",
      "userId": "09764604106651777555"
     },
     "user_tz": -60
    },
    "id": "2Hp1lMwFBvdb",
    "outputId": "c9e91c87-89d9-4387-b4d1-33badaef95f0"
   },
   "outputs": [
    {
     "name": "stdout",
     "output_type": "stream",
     "text": [
      "X_train shape: (208128, 180, 1), y_train shape: (208128, 18, 1), seq_categories_train shape: (208128,)\n",
      "X_val shape: (52033, 180, 1), y_val shape: (52033, 18, 1), seq_categories_val shape: (52033,)\n",
      "X_test shape: (30067, 180, 1), y_test shape: (30067, 18, 1), seq_categories_test shape: (30067,)\n",
      "\n",
      "(array(['A', 'B', 'C', 'D', 'E', 'F'], dtype='<U1'), array([37228, 34623, 48399, 49756, 37046,  1076]))\n",
      "(array(['A', 'B', 'C', 'D', 'E', 'F'], dtype='<U1'), array([ 9307,  8656, 12100, 12439,  9262,   269]))\n",
      "(array(['A', 'B', 'C', 'D', 'E', 'F'], dtype='<U1'), array([5500, 4864, 7006, 6927, 5610,  160]))\n"
     ]
    }
   ],
   "source": [
    "# Print shapes of the sequences datasets\n",
    "print(f\"X_train shape: {X_train.shape}, y_train shape: {y_train.shape}, seq_categories_train shape: {seq_categories_train.shape}\")\n",
    "print(f\"X_val shape: {X_val.shape}, y_val shape: {y_val.shape}, seq_categories_val shape: {seq_categories_val.shape}\")\n",
    "print(f\"X_test shape: {X_test.shape}, y_test shape: {y_test.shape}, seq_categories_test shape: {seq_categories_test.shape}\\n\")\n",
    "\n",
    "# See if stratification was succesful\n",
    "print(np.unique(seq_categories_train, return_counts = True))\n",
    "print(np.unique(seq_categories_val, return_counts = True))\n",
    "print(np.unique(seq_categories_test, return_counts = True))"
   ]
  },
  {
   "cell_type": "markdown",
   "metadata": {
    "id": "SKxqNpKFoJM_"
   },
   "source": [
    "### Univariate Forecating (Direct)"
   ]
  },
  {
   "cell_type": "code",
   "execution_count": null,
   "metadata": {
    "id": "dDv1PCh99_nv"
   },
   "outputs": [],
   "source": [
    "def inspect_univariate(X, y, telescope, idx = 42):\n",
    "    plt.plot(np.arange(len(X[idx])), X[idx])\n",
    "    plt.scatter(np.arange(len(X[idx]), len(X[idx]) + telescope), y[idx], color='orange', s = 5)\n",
    "    plt.ylim(0,1)\n",
    "    plt.show()"
   ]
  },
  {
   "cell_type": "code",
   "execution_count": null,
   "metadata": {
    "colab": {
     "base_uri": "https://localhost:8080/",
     "height": 435
    },
    "executionInfo": {
     "elapsed": 535,
     "status": "ok",
     "timestamp": 1703243752555,
     "user": {
      "displayName": "Daniele Bottazzi",
      "userId": "09764604106651777555"
     },
     "user_tz": -60
    },
    "id": "EPGK1vu4-bp-",
    "outputId": "ba314a08-97ab-4b79-aaad-12524f07b516"
   },
   "outputs": [
    {
     "data": {
      "image/png": "[encoded data removed]",
      "text/plain": [
       "<Figure size 640x480 with 1 Axes>"
      ]
     },
     "metadata": {},
     "output_type": "display_data"
    }
   ],
   "source": [
    "inspect_univariate(X_train, y_train, direct_telescope, idx = 122)"
   ]
  },
  {
   "cell_type": "code",
   "execution_count": null,
   "metadata": {
    "id": "Id8TkPMkFj5W"
   },
   "outputs": [],
   "source": [
    "def build_CONV_LSTM_model(input_shape, output_shape):\n",
    "    # Ensure the input time steps are at least as many as the output time steps\n",
    "    assert input_shape[0] >= output_shape[0], \"For this exercise we want input time steps to be >= of output time steps\"\n",
    "\n",
    "    # Define the input layer with the specified shape\n",
    "    input_layer = tfkl.Input(shape=input_shape, name='input_layer')\n",
    "\n",
    "    ## Add a Masking layer to mask the padding -> NO, CI METTE UNA VITA!\n",
    "    #x = tfkl.Masking(mask_value=0., input_shape=input_shape)(input_layer)\n",
    "\n",
    "    # Add a Bidirectional LSTM layer with 64 units\n",
    "    x = tfkl.Bidirectional(tfkl.LSTM(64, return_sequences=True, name='lstm'), name='bidirectional_lstm')(input_layer)\n",
    "\n",
    "    # Add a 1D Convolution layer with 128 filters and a kernel size of 3\n",
    "    x = tfkl.Conv1D(128, 3, padding='same', activation='relu', name='conv')(x)\n",
    "\n",
    "    # Add a final Convolution layer to match the desired output shape\n",
    "    output_layer = tfkl.Conv1D(output_shape[1], 3, padding='same', name='output_layer')(x)\n",
    "\n",
    "    # Calculate the size to crop from the output to match the output shape\n",
    "    crop_size = output_layer.shape[1] - output_shape[0]\n",
    "\n",
    "    # Crop the output to the desired length\n",
    "    output_layer = tfkl.Cropping1D((0, crop_size), name='cropping')(output_layer)\n",
    "\n",
    "    # Construct the model by connecting input and output layers\n",
    "    model = tf.keras.Model(inputs=input_layer, outputs=output_layer, name='CONV_LSTM_model')\n",
    "\n",
    "    # Compile the model with Mean Squared Error loss and Adam optimizer\n",
    "    # model.compile(loss=tf.keras.losses.MeanSquaredError(), optimizer=tf.keras.optimizers.Adam(learning_rate=2e-3))\n",
    "    # With MeanAbsolutePercentageError (MAPE)\n",
    "    model.compile(loss=tf.keras.losses.MeanAbsoluteError(), optimizer=tf.keras.optimizers.Adam(learning_rate=2e-3))\n",
    "    #model.compile(loss=tf.keras.losses.MeanAbsolutePercentageError(), optimizer=tf.keras.optimizers.Adam())\n",
    "\n",
    "    return model"
   ]
  },
  {
   "cell_type": "code",
   "execution_count": null,
   "metadata": {
    "id": "IItrn_r-FiBs"
   },
   "outputs": [],
   "source": [
    "input_shape  = X_train.shape[1:]\n",
    "output_shape = y_train.shape[1:]\n",
    "\n",
    "batch_size = 64\n",
    "epochs = 200"
   ]
  },
  {
   "cell_type": "code",
   "execution_count": null,
   "metadata": {
    "colab": {
     "base_uri": "https://localhost:8080/",
     "height": 880
    },
    "id": "PwDrPO5KFnYJ",
    "outputId": "9a065c72-bbdd-4987-f432-d78c548ce42e"
   },
   "outputs": [
    {
     "name": "stdout",
     "output_type": "stream",
     "text": [
      "Model: \"CONV_LSTM_model\"\n",
      "_________________________________________________________________\n",
      " Layer (type)                Output Shape              Param #   \n",
      "=================================================================\n",
      " input_layer (InputLayer)    [(None, 180, 1)]          0         \n",
      "                                                                 \n",
      " bidirectional_lstm (Bidire  (None, 180, 128)          33792     \n",
      " ctional)                                                        \n",
      "                                                                 \n",
      " conv (Conv1D)               (None, 180, 128)          49280     \n",
      "                                                                 \n",
      " output_layer (Conv1D)       (None, 180, 1)            385       \n",
      "                                                                 \n",
      " cropping (Cropping1D)       (None, 18, 1)             0         \n",
      "                                                                 \n",
      "=================================================================\n",
      "Total params: 83457 (326.00 KB)\n",
      "Trainable params: 83457 (326.00 KB)\n",
      "Non-trainable params: 0 (0.00 Byte)\n",
      "_________________________________________________________________\n"
     ]
    },
    {
     "data": {
      "image/png": "[encoded data removed]",
      "text/plain": [
       "<IPython.core.display.Image object>"
      ]
     },
     "execution_count": 29,
     "metadata": {},
     "output_type": "execute_result"
    }
   ],
   "source": [
    "model = build_CONV_LSTM_model(input_shape, output_shape)\n",
    "model.summary()\n",
    "tfk.utils.plot_model(model, expand_nested=True, show_shapes=True)"
   ]
  },
  {
   "cell_type": "code",
   "execution_count": null,
   "metadata": {
    "colab": {
     "base_uri": "https://localhost:8080/"
    },
    "id": "pAW9a7_MFpZF",
    "outputId": "b9450f63-d5c9-418a-a6f5-44ddac30d74e"
   },
   "outputs": [
    {
     "name": "stdout",
     "output_type": "stream",
     "text": [
      "Epoch 1/200\n",
      "3252/3252 [==============================] - 64s 16ms/step - loss: 0.1880 - val_loss: 0.1511 - lr: 0.0020\n",
      "Epoch 2/200\n",
      "3252/3252 [==============================] - 53s 16ms/step - loss: 0.1929 - val_loss: 0.2101 - lr: 0.0020\n",
      "Epoch 3/200\n",
      "3252/3252 [==============================] - 53s 16ms/step - loss: 0.1626 - val_loss: 0.0844 - lr: 0.0020\n",
      "Epoch 4/200\n",
      "3252/3252 [==============================] - 52s 16ms/step - loss: 0.0843 - val_loss: 0.0831 - lr: 0.0020\n",
      "Epoch 5/200\n",
      "3252/3252 [==============================] - 54s 17ms/step - loss: 0.0823 - val_loss: 0.0795 - lr: 0.0020\n",
      "Epoch 6/200\n",
      "3252/3252 [==============================] - 57s 18ms/step - loss: 0.0797 - val_loss: 0.0825 - lr: 0.0020\n",
      "Epoch 7/200\n",
      "3252/3252 [==============================] - 53s 16ms/step - loss: 0.0785 - val_loss: 0.0773 - lr: 0.0020\n",
      "Epoch 8/200\n",
      "3252/3252 [==============================] - 53s 16ms/step - loss: 0.0776 - val_loss: 0.0770 - lr: 0.0020\n",
      "Epoch 9/200\n",
      "3252/3252 [==============================] - 55s 17ms/step - loss: 0.0769 - val_loss: 0.0767 - lr: 0.0020\n",
      "Epoch 10/200\n",
      "3252/3252 [==============================] - 56s 17ms/step - loss: 0.0763 - val_loss: 0.0752 - lr: 0.0020\n",
      "Epoch 11/200\n",
      "3252/3252 [==============================] - 54s 17ms/step - loss: 0.0756 - val_loss: 0.0745 - lr: 0.0020\n",
      "Epoch 12/200\n",
      "3252/3252 [==============================] - 53s 16ms/step - loss: 0.0751 - val_loss: 0.0744 - lr: 0.0020\n",
      "Epoch 13/200\n",
      "3252/3252 [==============================] - 53s 16ms/step - loss: 0.0745 - val_loss: 0.0739 - lr: 0.0020\n",
      "Epoch 14/200\n",
      "3252/3252 [==============================] - 54s 17ms/step - loss: 0.0741 - val_loss: 0.0741 - lr: 0.0020\n",
      "Epoch 15/200\n",
      "3252/3252 [==============================] - 53s 16ms/step - loss: 0.0736 - val_loss: 0.0733 - lr: 0.0020\n",
      "Epoch 16/200\n",
      "3252/3252 [==============================] - 55s 17ms/step - loss: 0.0733 - val_loss: 0.0727 - lr: 0.0020\n",
      "Epoch 17/200\n",
      "3252/3252 [==============================] - 55s 17ms/step - loss: 0.0729 - val_loss: 0.0724 - lr: 0.0020\n",
      "Epoch 18/200\n",
      "3252/3252 [==============================] - 52s 16ms/step - loss: 0.0725 - val_loss: 0.0722 - lr: 0.0020\n",
      "Epoch 19/200\n",
      "3252/3252 [==============================] - 55s 17ms/step - loss: 0.0723 - val_loss: 0.0721 - lr: 0.0020\n",
      "Epoch 20/200\n",
      "3252/3252 [==============================] - 53s 16ms/step - loss: 0.0721 - val_loss: 0.0721 - lr: 0.0020\n",
      "Epoch 21/200\n",
      "3252/3252 [==============================] - 53s 16ms/step - loss: 0.0718 - val_loss: 0.0713 - lr: 0.0020\n",
      "Epoch 22/200\n",
      "3252/3252 [==============================] - 53s 16ms/step - loss: 0.0716 - val_loss: 0.0736 - lr: 0.0020\n",
      "Epoch 23/200\n",
      "3252/3252 [==============================] - 53s 16ms/step - loss: 0.0715 - val_loss: 0.0715 - lr: 0.0020\n",
      "Epoch 24/200\n",
      "3252/3252 [==============================] - 53s 16ms/step - loss: 0.0712 - val_loss: 0.0713 - lr: 0.0020\n",
      "Epoch 25/200\n",
      "3252/3252 [==============================] - 52s 16ms/step - loss: 0.0710 - val_loss: 0.0710 - lr: 0.0020\n",
      "Epoch 26/200\n",
      "3252/3252 [==============================] - 53s 16ms/step - loss: 0.0709 - val_loss: 0.0716 - lr: 0.0020\n",
      "Epoch 27/200\n",
      "3252/3252 [==============================] - 52s 16ms/step - loss: 0.0708 - val_loss: 0.0706 - lr: 0.0020\n",
      "Epoch 28/200\n",
      "3252/3252 [==============================] - 55s 17ms/step - loss: 0.0706 - val_loss: 0.0707 - lr: 0.0020\n",
      "Epoch 29/200\n",
      "3252/3252 [==============================] - 57s 18ms/step - loss: 0.0704 - val_loss: 0.0709 - lr: 0.0020\n",
      "Epoch 30/200\n",
      "3252/3252 [==============================] - 52s 16ms/step - loss: 0.0703 - val_loss: 0.0703 - lr: 0.0020\n",
      "Epoch 31/200\n",
      "3252/3252 [==============================] - 52s 16ms/step - loss: 0.0702 - val_loss: 0.0704 - lr: 0.0020\n",
      "Epoch 32/200\n",
      "3252/3252 [==============================] - 53s 16ms/step - loss: 0.0700 - val_loss: 0.0696 - lr: 0.0020\n",
      "Epoch 33/200\n",
      "3252/3252 [==============================] - 52s 16ms/step - loss: 0.0698 - val_loss: 0.0697 - lr: 0.0020\n",
      "Epoch 34/200\n",
      "3252/3252 [==============================] - 53s 16ms/step - loss: 0.0697 - val_loss: 0.0706 - lr: 0.0020\n",
      "Epoch 35/200\n",
      "3252/3252 [==============================] - 52s 16ms/step - loss: 0.0696 - val_loss: 0.0700 - lr: 0.0020\n",
      "Epoch 36/200\n",
      "3252/3252 [==============================] - 53s 16ms/step - loss: 0.0696 - val_loss: 0.0698 - lr: 0.0020\n",
      "Epoch 37/200\n",
      "3252/3252 [==============================] - 54s 16ms/step - loss: 0.0692 - val_loss: 0.0692 - lr: 0.0020\n",
      "Epoch 38/200\n",
      "3252/3252 [==============================] - 53s 16ms/step - loss: 0.0738 - val_loss: 0.0726 - lr: 0.0020\n",
      "Epoch 39/200\n",
      "3252/3252 [==============================] - 52s 16ms/step - loss: 0.0720 - val_loss: 0.0709 - lr: 0.0020\n",
      "Epoch 40/200\n",
      "3252/3252 [==============================] - 53s 16ms/step - loss: 0.0704 - val_loss: 0.0699 - lr: 0.0020\n",
      "Epoch 41/200\n",
      "3252/3252 [==============================] - 52s 16ms/step - loss: 0.0694 - val_loss: 0.0692 - lr: 0.0020\n",
      "Epoch 42/200\n",
      "3252/3252 [==============================] - 52s 16ms/step - loss: 0.0687 - val_loss: 0.0690 - lr: 0.0020\n",
      "Epoch 43/200\n",
      "3252/3252 [==============================] - 52s 16ms/step - loss: 0.0687 - val_loss: 0.0694 - lr: 0.0020\n",
      "Epoch 44/200\n",
      "3252/3252 [==============================] - 52s 16ms/step - loss: 0.0688 - val_loss: 0.0698 - lr: 0.0020\n",
      "Epoch 45/200\n",
      "3252/3252 [==============================] - 53s 16ms/step - loss: 0.0687 - val_loss: 0.0688 - lr: 0.0020\n",
      "Epoch 46/200\n",
      "3252/3252 [==============================] - 53s 16ms/step - loss: 0.0687 - val_loss: 0.0688 - lr: 0.0020\n",
      "Epoch 47/200\n",
      "3252/3252 [==============================] - 53s 16ms/step - loss: 0.0685 - val_loss: 0.0686 - lr: 0.0020\n",
      "Epoch 48/200\n",
      "3252/3252 [==============================] - 52s 16ms/step - loss: 0.0685 - val_loss: 0.0689 - lr: 0.0020\n",
      "Epoch 49/200\n",
      "3252/3252 [==============================] - 53s 16ms/step - loss: 0.0685 - val_loss: 0.0689 - lr: 0.0020\n",
      "Epoch 50/200\n",
      "3252/3252 [==============================] - 52s 16ms/step - loss: 0.0683 - val_loss: 0.0714 - lr: 0.0020\n",
      "Epoch 51/200\n",
      "3252/3252 [==============================] - 52s 16ms/step - loss: 0.0682 - val_loss: 0.0684 - lr: 0.0020\n",
      "Epoch 52/200\n",
      "3252/3252 [==============================] - 52s 16ms/step - loss: 0.0680 - val_loss: 0.0684 - lr: 0.0020\n",
      "Epoch 53/200\n",
      "3252/3252 [==============================] - 52s 16ms/step - loss: 0.0680 - val_loss: 0.0684 - lr: 0.0020\n",
      "Epoch 54/200\n",
      "3252/3252 [==============================] - 53s 16ms/step - loss: 0.0679 - val_loss: 0.0691 - lr: 0.0020\n",
      "Epoch 55/200\n",
      "3252/3252 [==============================] - 54s 17ms/step - loss: 0.0677 - val_loss: 0.0682 - lr: 0.0020\n",
      "Epoch 56/200\n",
      "3252/3252 [==============================] - 53s 16ms/step - loss: 0.0715 - val_loss: 0.0820 - lr: 0.0020\n",
      "Epoch 57/200\n",
      "3252/3252 [==============================] - 52s 16ms/step - loss: 0.0804 - val_loss: 0.0772 - lr: 0.0020\n",
      "Epoch 58/200\n",
      "3252/3252 [==============================] - 53s 16ms/step - loss: 0.0763 - val_loss: 0.0760 - lr: 0.0020\n",
      "Epoch 59/200\n",
      "3252/3252 [==============================] - 52s 16ms/step - loss: 0.0760 - val_loss: 0.0778 - lr: 0.0020\n",
      "Epoch 60/200\n",
      "3252/3252 [==============================] - 53s 16ms/step - loss: 0.0759 - val_loss: 0.0753 - lr: 0.0020\n",
      "Epoch 61/200\n",
      "3252/3252 [==============================] - 53s 16ms/step - loss: 0.0735 - val_loss: 0.0738 - lr: 4.0000e-04\n",
      "Epoch 62/200\n",
      "3252/3252 [==============================] - 52s 16ms/step - loss: 0.0722 - val_loss: 0.0724 - lr: 4.0000e-04\n",
      "Epoch 63/200\n",
      "3252/3252 [==============================] - 52s 16ms/step - loss: 0.0700 - val_loss: 0.0706 - lr: 4.0000e-04\n",
      "Epoch 64/200\n",
      "3252/3252 [==============================] - 53s 16ms/step - loss: 0.0688 - val_loss: 0.0695 - lr: 4.0000e-04\n",
      "Epoch 65/200\n",
      "3252/3252 [==============================] - 52s 16ms/step - loss: 0.0675 - val_loss: 0.0681 - lr: 4.0000e-04\n",
      "Epoch 66/200\n",
      "3252/3252 [==============================] - 51s 16ms/step - loss: 0.0665 - val_loss: 0.0675 - lr: 4.0000e-04\n",
      "Epoch 67/200\n",
      "3252/3252 [==============================] - 53s 16ms/step - loss: 0.0661 - val_loss: 0.0674 - lr: 4.0000e-04\n",
      "Epoch 68/200\n",
      "3252/3252 [==============================] - 52s 16ms/step - loss: 0.0659 - val_loss: 0.0677 - lr: 4.0000e-04\n",
      "Epoch 69/200\n",
      "3252/3252 [==============================] - 53s 16ms/step - loss: 0.0658 - val_loss: 0.0674 - lr: 4.0000e-04\n",
      "Epoch 70/200\n",
      "3252/3252 [==============================] - 52s 16ms/step - loss: 0.0657 - val_loss: 0.0673 - lr: 4.0000e-04\n",
      "Epoch 71/200\n",
      "3252/3252 [==============================] - 53s 16ms/step - loss: 0.0656 - val_loss: 0.0677 - lr: 4.0000e-04\n",
      "Epoch 72/200\n",
      "3252/3252 [==============================] - 55s 17ms/step - loss: 0.0656 - val_loss: 0.0673 - lr: 4.0000e-04\n",
      "Epoch 73/200\n",
      "3252/3252 [==============================] - 52s 16ms/step - loss: 0.0651 - val_loss: 0.0669 - lr: 8.0000e-05\n",
      "Epoch 74/200\n",
      "3252/3252 [==============================] - 54s 17ms/step - loss: 0.0651 - val_loss: 0.0670 - lr: 8.0000e-05\n",
      "Epoch 75/200\n",
      "3252/3252 [==============================] - 54s 16ms/step - loss: 0.0650 - val_loss: 0.0669 - lr: 8.0000e-05\n",
      "Epoch 76/200\n",
      "3252/3252 [==============================] - 53s 16ms/step - loss: 0.0650 - val_loss: 0.0669 - lr: 8.0000e-05\n",
      "Epoch 77/200\n",
      "3252/3252 [==============================] - 53s 16ms/step - loss: 0.0650 - val_loss: 0.0669 - lr: 8.0000e-05\n",
      "Epoch 78/200\n",
      "3252/3252 [==============================] - 52s 16ms/step - loss: 0.0650 - val_loss: 0.0669 - lr: 8.0000e-05\n",
      "Epoch 79/200\n",
      "3252/3252 [==============================] - 53s 16ms/step - loss: 0.0649 - val_loss: 0.0669 - lr: 1.6000e-05\n",
      "Epoch 80/200\n",
      "3252/3252 [==============================] - 52s 16ms/step - loss: 0.0649 - val_loss: 0.0669 - lr: 1.6000e-05\n",
      "Epoch 81/200\n",
      "3252/3252 [==============================] - 54s 17ms/step - loss: 0.0649 - val_loss: 0.0669 - lr: 1.6000e-05\n",
      "Epoch 82/200\n",
      "3252/3252 [==============================] - 52s 16ms/step - loss: 0.0649 - val_loss: 0.0669 - lr: 1.6000e-05\n",
      "Epoch 83/200\n",
      "3252/3252 [==============================] - 52s 16ms/step - loss: 0.0649 - val_loss: 0.0669 - lr: 1.6000e-05\n"
     ]
    }
   ],
   "source": [
    "# Train the model\n",
    "history = model.fit(\n",
    "    x = X_train,\n",
    "    y = y_train,\n",
    "    batch_size = batch_size,\n",
    "    epochs = epochs,\n",
    "    validation_data=(X_val, y_val),\n",
    "    callbacks = [\n",
    "        tfk.callbacks.EarlyStopping(monitor='val_loss', mode='min', patience=10, restore_best_weights=True,min_delta=1e-4),\n",
    "        tfk.callbacks.ReduceLROnPlateau(monitor='val_loss', mode='min', patience=5, factor=0.2, min_lr=1e-5,min_delta=1e-4)\n",
    "    ]\n",
    ").history"
   ]
  },
  {
   "cell_type": "code",
   "execution_count": null,
   "metadata": {
    "colab": {
     "base_uri": "https://localhost:8080/",
     "height": 654
    },
    "id": "GOvXRdMwFrgV",
    "outputId": "8e666833-ad46-42f6-9bb4-c4b3faa8e903"
   },
   "outputs": [
    {
     "data": {
      "image/png": "[encoded data removed]",
      "text/plain": [
       "<Figure size 1700x400 with 1 Axes>"
      ]
     },
     "metadata": {},
     "output_type": "display_data"
    },
    {
     "data": {
      "image/png": "[encoded data removed]",
      "text/plain": [
       "<Figure size 1800x300 with 1 Axes>"
      ]
     },
     "metadata": {},
     "output_type": "display_data"
    }
   ],
   "source": [
    "best_epoch = np.argmin(history['val_loss'])\n",
    "plt.figure(figsize=(17,4))\n",
    "plt.plot(history['loss'], label='Training loss', alpha=.8, color='#ff7f0e')\n",
    "plt.plot(history['val_loss'], label='Validation loss', alpha=.9, color='#5a9aa5')\n",
    "plt.axvline(x=best_epoch, label='Best epoch', alpha=.3, ls='--', color='#5a9aa5')\n",
    "plt.title('Mean Average Error')\n",
    "plt.legend()\n",
    "plt.grid(alpha=.3)\n",
    "plt.show()\n",
    "\n",
    "plt.figure(figsize=(18,3))\n",
    "plt.plot(history['lr'], label='Learning Rate', alpha=.8, color='#ff7f0e')\n",
    "plt.axvline(x=best_epoch, label='Best epoch', alpha=.3, ls='--', color='#5a9aa5')\n",
    "plt.legend()\n",
    "plt.grid(alpha=.3)\n",
    "plt.show()"
   ]
  },
  {
   "cell_type": "code",
   "execution_count": null,
   "metadata": {
    "id": "JgB-EtAUw3iW"
   },
   "outputs": [],
   "source": [
    "model.save('DirectForecasting_180_18_22_RLROP-factor-02-filtered')"
   ]
  },
  {
   "cell_type": "code",
   "execution_count": null,
   "metadata": {
    "id": "whj6Z7LiFwVk"
   },
   "outputs": [],
   "source": [
    "model = tfk.models.load_model('DirectForecasting_180_18_22_RLROP-factor-02-filtered')"
   ]
  },
  {
   "cell_type": "code",
   "execution_count": null,
   "metadata": {
    "id": "0ISrLhrhqvOZ"
   },
   "outputs": [],
   "source": [
    "# Predict the test set using the model\n",
    "predictions = model.predict(X_test, verbose=0)"
   ]
  },
  {
   "cell_type": "code",
   "execution_count": null,
   "metadata": {
    "colab": {
     "base_uri": "https://localhost:8080/"
    },
    "id": "beUcHMVo8Uiw",
    "outputId": "f6984750-19e2-484c-af98-03af573954fc"
   },
   "outputs": [
    {
     "name": "stdout",
     "output_type": "stream",
     "text": [
      "Predictions shape: (30067, 9, 1)\n",
      "Mean Squared Error: 0.00810391828417778\n",
      "Mean Absolute Error: 0.05373406410217285\n"
     ]
    }
   ],
   "source": [
    "predictions_9 = predictions[:, 0:9, :]\n",
    "# Print the shape of the predictions\n",
    "print(f\"Predictions shape: {predictions_9.shape}\")\n",
    "\n",
    "# Calculate and print Mean Squared Error (MSE)\n",
    "mean_squared_error = tfk.metrics.mean_squared_error(y_test[:, 0:9, :].flatten(), predictions_9.flatten()).numpy()\n",
    "print(f\"Mean Squared Error: {mean_squared_error}\")\n",
    "\n",
    "# Calculate and print Mean Absolute Error (MAE)\n",
    "mean_absolute_error = tfk.metrics.mean_absolute_error(y_test[:, 0:9, :].flatten(), predictions_9.flatten()).numpy()\n",
    "print(f\"Mean Absolute Error: {mean_absolute_error}\")"
   ]
  },
  {
   "cell_type": "code",
   "execution_count": null,
   "metadata": {
    "colab": {
     "base_uri": "https://localhost:8080/"
    },
    "id": "2d7k7P8ZYl8Z",
    "outputId": "3a441347-0da5-4aad-d8b4-cc9efa9c74ef"
   },
   "outputs": [
    {
     "name": "stdout",
     "output_type": "stream",
     "text": [
      "Predictions shape: (30067, 18, 1)\n",
      "Mean Squared Error: 0.011294150725007057\n",
      "Mean Absolute Error: 0.06604120135307312\n"
     ]
    }
   ],
   "source": [
    "# Print the shape of the predictions\n",
    "print(f\"Predictions shape: {predictions.shape}\")\n",
    "\n",
    "# Calculate and print Mean Squared Error (MSE)\n",
    "mean_squared_error = tfk.metrics.mean_squared_error(y_test.flatten(), predictions.flatten()).numpy()\n",
    "print(f\"Mean Squared Error: {mean_squared_error}\")\n",
    "\n",
    "# Calculate and print Mean Absolute Error (MAE)\n",
    "mean_absolute_error = tfk.metrics.mean_absolute_error(y_test.flatten(), predictions.flatten()).numpy()\n",
    "print(f\"Mean Absolute Error: {mean_absolute_error}\")"
   ]
  },
  {
   "cell_type": "markdown",
   "metadata": {
    "id": "sApsGg-QYUZz"
   },
   "source": [
    "## `model.py`"
   ]
  },
  {
   "cell_type": "code",
   "execution_count": null,
   "metadata": {
    "id": "UDUUgmrxYVRz"
   },
   "outputs": [],
   "source": [
    "%%writefile model.py\n",
    "import os\n",
    "import tensorflow as tf\n",
    "\n",
    "class model:\n",
    "    def _init_(self, path):\n",
    "        self.model = tf.keras.models.load_model(os.path.join(path, 'SubmissionModel'))\n",
    "\n",
    "    def predict(self, X, categories):\n",
    "\n",
    "        out = self.model.predict(X[:,-180:])  # Shape [BSx9] for Phase 1 and [BSx18] for Phase 2\n",
    "        out = out.reshape(-1, 18)\n",
    "\n",
    "        return out"
   ]
  }
 ],
 "metadata": {
  "accelerator": "GPU",
  "colab": {
   "provenance": [
    {
     "file_id": "1_QoYM0Xo-VIm6aQaeUfg5z4gjq0CWonw",
     "timestamp": 1703243254585
    }
   ]
  },
  "kernelspec": {
   "display_name": "Python 3",
   "name": "python3"
  },
  "language_info": {
   "codemirror_mode": {
    "name": "ipython",
    "version": 3
   },
   "file_extension": ".py",
   "mimetype": "text/x-python",
   "name": "python",
   "nbconvert_exporter": "python",
   "pygments_lexer": "ipython3",
   "version": "3.8.8"
  }
 },
 "nbformat": 4,
 "nbformat_minor": 0
}
