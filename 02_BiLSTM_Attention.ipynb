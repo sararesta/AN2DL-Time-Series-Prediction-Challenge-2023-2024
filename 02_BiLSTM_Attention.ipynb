{
 "cells": [
  {
   "cell_type": "markdown",
   "metadata": {
    "id": "aFU-Ag8QQeL1"
   },
   "source": [
    "<table width=\"100%\">\n",
    "  <tr>\n",
    "    <td>\n",
    "      <h1 style=\"text-align: left; font-size:300%;\">Homework 2 - Time Series forecasting challenge</h1>\n",
    "      <table align=\"left\">\n",
    "        <tr>\n",
    "          <td style=\"text-align: left;\">Bottazzi Daniele</td>\n",
    "          <td style=\"text-align: left;\"><a href=\"mailto:nouhaila.benhdidou@mail.polimi.it\">daniele.bottazzi@mail.polimi.it</a></td>\n",
    "        </tr>\n",
    "        <tr>\n",
    "          <td style=\"text-align: left;\">Resta Sara</td>\n",
    "          <td style=\"text-align: left;\"><a href=\"mailto:daniele.bottazzi@mail.polimi.it\">sara.resta@mail.polimi.it</a></td>\n",
    "        </tr>\n",
    "        <tr>\n",
    "          <td style=\"text-align: left;\">Saldarini Gaia</td>\n",
    "          <td style=\"text-align: left;\"><a href=\"mailto:annalisa.imperiali@mail.polimi.it\">gaia.saldarini@mail.polimi.it</a></td>\n",
    "        </tr>\n",
    "      </table>\n",
    "    </td>\n",
    "    <td width=\"20%\">\n",
    "      <div style=\"text-align: right\">\n",
    "          <br>\n",
    "        <b style=\"font-size: 120%;\">AN2DL course</b><br>\n",
    "        <b>a.y. 2023-2024</b>\n",
    "          <br><br>\n",
    "        prof. M. Matteucci<br>\n",
    "        prof. G. Boracchi<br>\n",
    "      </div>\n",
    "    </td>\n",
    "  </tr>\n",
    "</table>\n",
    "\n",
    "# Bidirectional LSTM with Attention\n",
    "\n",
    " Link to dowload the `filtered_datasets` used in this Notebook: [link](https://drive.google.com/drive/folders/1FuVLBucfEEDN3pPuNTSgjwv6_3Rstn_4?usp=sharing)."
   ]
  },
  {
   "cell_type": "markdown",
   "metadata": {
    "id": "2Dn1PPU0otWB"
   },
   "source": [
    "In this homework you are asked to predict future samples of the input time series. The goal is to design and implement forecasting models to learn how to exploit past observations in the input sequences to correctly predict the future. The task is to develop a forecasting model that is able to predict several uncorrelated time series.\n",
    "\n",
    "The prerequisite is that the model exhibits generalisation capabilities in the forecasting domain, allowing it to transcend the constraints of specific time domains. This requires a model that, while specialised in forecasting, is not limited to predicting in a single or predefined time context."
   ]
  },
  {
   "cell_type": "markdown",
   "metadata": {
    "id": "omSLbdLvhDRx"
   },
   "source": [
    "### Connect to Drive"
   ]
  },
  {
   "cell_type": "code",
   "execution_count": null,
   "metadata": {
    "colab": {
     "base_uri": "https://localhost:8080/"
    },
    "executionInfo": {
     "elapsed": 26832,
     "status": "ok",
     "timestamp": 1703244260596,
     "user": {
      "displayName": "Daniele Bottazzi",
      "userId": "09764604106651777555"
     },
     "user_tz": -60
    },
    "id": "AoaLQpvChLpb",
    "outputId": "fc2942fe-b196-42f8-ff7b-8db0311c046c"
   },
   "outputs": [
    {
     "name": "stdout",
     "output_type": "stream",
     "text": [
      "Mounted at /gdrive\n",
      "/gdrive/My Drive/Colab Notebooks/AN2DL/2023-2024/Homework 2\n"
     ]
    }
   ],
   "source": [
    "from google.colab import drive\n",
    "drive.mount('/gdrive')\n",
    "%cd /gdrive/My Drive/Colab Notebooks/AN2DL/2023-2024/Homework 2"
   ]
  },
  {
   "cell_type": "markdown",
   "metadata": {
    "id": "MdD_8Vyswkwf"
   },
   "source": [
    "### Import libraries"
   ]
  },
  {
   "cell_type": "code",
   "execution_count": null,
   "metadata": {
    "id": "D_S1JfaW8bIN"
   },
   "outputs": [],
   "source": [
    "# Fix randomness and hide warnings\n",
    "seed = 42\n",
    "\n",
    "import os\n",
    "os.environ['TF_CPP_MIN_LOG_LEVEL'] = '3'\n",
    "os.environ['PYTHONHASHSEED'] = str(seed)\n",
    "os.environ['MPLCONFIGDIR'] = os.getcwd()+'/configs/'\n",
    "\n",
    "import warnings\n",
    "warnings.simplefilter(action='ignore', category=FutureWarning)\n",
    "warnings.simplefilter(action='ignore', category=Warning)\n",
    "\n",
    "import numpy as np\n",
    "np.random.seed(seed)\n",
    "\n",
    "import logging\n",
    "\n",
    "import random\n",
    "random.seed(seed)"
   ]
  },
  {
   "cell_type": "code",
   "execution_count": null,
   "metadata": {
    "colab": {
     "base_uri": "https://localhost:8080/"
    },
    "executionInfo": {
     "elapsed": 515,
     "status": "ok",
     "timestamp": 1703244400845,
     "user": {
      "displayName": "Daniele Bottazzi",
      "userId": "09764604106651777555"
     },
     "user_tz": -60
    },
    "id": "QfJw4zgGUTl-",
    "outputId": "d193076f-a538-440d-c5f0-48b02a437ad2"
   },
   "outputs": [
    {
     "name": "stdout",
     "output_type": "stream",
     "text": [
      "2.15.0\n"
     ]
    }
   ],
   "source": [
    "# Import tensorflow\n",
    "import tensorflow as tf\n",
    "from tensorflow import keras as tfk\n",
    "from tensorflow.keras import layers as tfkl\n",
    "tf.autograph.set_verbosity(0)\n",
    "tf.get_logger().setLevel(logging.ERROR)\n",
    "tf.compat.v1.logging.set_verbosity(tf.compat.v1.logging.ERROR)\n",
    "tf.random.set_seed(seed)\n",
    "tf.compat.v1.set_random_seed(seed)\n",
    "print(tf.__version__)"
   ]
  },
  {
   "cell_type": "code",
   "execution_count": null,
   "metadata": {
    "id": "7TRtQ5GupYFB"
   },
   "outputs": [],
   "source": [
    "# Import other libraries\n",
    "import matplotlib.pyplot as plt\n",
    "import pandas as pd\n",
    "from sklearn.model_selection import train_test_split\n",
    "from sklearn.preprocessing import MinMaxScaler, StandardScaler, RobustScaler\n",
    "import seaborn as sns"
   ]
  },
  {
   "cell_type": "markdown",
   "metadata": {
    "id": "NcLWIZfBUd80"
   },
   "source": [
    "### Load and preprocess the dataset"
   ]
  },
  {
   "cell_type": "code",
   "execution_count": null,
   "metadata": {
    "id": "Qr7OCTrKUYnm"
   },
   "outputs": [],
   "source": [
    "# Conditional check for unzipping\n",
    "unzip = False\n",
    "\n",
    "# Unzip the 'training_dataset.zip' file if the 'unzip' flag is True\n",
    "if unzip:\n",
    "    !unzip training_dataset.zip"
   ]
  },
  {
   "cell_type": "code",
   "execution_count": null,
   "metadata": {
    "id": "daL38_wguBA0"
   },
   "outputs": [],
   "source": [
    "# Load dataset\n",
    "unique_series = np.load('filtered_datasets/filtered_series_02.npy')\n",
    "unique_valid_periods = np.load('filtered_datasets/filtered_valid_periods_02.npy')\n",
    "unique_categories = np.load('filtered_datasets/filtered_categories_02.npy')"
   ]
  },
  {
   "cell_type": "code",
   "execution_count": null,
   "metadata": {
    "colab": {
     "base_uri": "https://localhost:8080/"
    },
    "executionInfo": {
     "elapsed": 8,
     "status": "ok",
     "timestamp": 1703244293968,
     "user": {
      "displayName": "Daniele Bottazzi",
      "userId": "09764604106651777555"
     },
     "user_tz": -60
    },
    "id": "KI-u_5gw4-aM",
    "outputId": "6b8dfa8b-9b4b-48bf-9231-365630098902"
   },
   "outputs": [
    {
     "name": "stdout",
     "output_type": "stream",
     "text": [
      "Training data Shape: (47048, 2776)\n",
      "Valid periods data Shape: (47048, 2)\n",
      "Categories Shape: (47048,)\n"
     ]
    }
   ],
   "source": [
    "# Print the shapes of the loaded datasets\n",
    "print(\"Training data Shape:\", unique_series.shape)\n",
    "print(\"Valid periods data Shape:\", unique_valid_periods.shape)\n",
    "print(\"Categories Shape:\", unique_categories.shape)"
   ]
  },
  {
   "cell_type": "code",
   "execution_count": null,
   "metadata": {
    "colab": {
     "base_uri": "https://localhost:8080/"
    },
    "executionInfo": {
     "elapsed": 850,
     "status": "ok",
     "timestamp": 1703244294812,
     "user": {
      "displayName": "Daniele Bottazzi",
      "userId": "09764604106651777555"
     },
     "user_tz": -60
    },
    "id": "XIuSBQO_Tdl1",
    "outputId": "87e68b43-9b37-4b4e-debc-b0ee2d3eb0a3"
   },
   "outputs": [
    {
     "name": "stdout",
     "output_type": "stream",
     "text": [
      "False\n",
      "False\n",
      "0.15527808343460037\n"
     ]
    }
   ],
   "source": [
    "# Normalization\n",
    "print(np.any(unique_series < 0))\n",
    "print(np.any(unique_series > 1))\n",
    "print(np.min(np.max(unique_series, axis=0))) # must normalize in some way"
   ]
  },
  {
   "cell_type": "markdown",
   "metadata": {
    "id": "LnfhBcIm4J9K"
   },
   "source": [
    "## Process data"
   ]
  },
  {
   "cell_type": "code",
   "execution_count": null,
   "metadata": {
    "colab": {
     "base_uri": "https://localhost:8080/"
    },
    "executionInfo": {
     "elapsed": 612,
     "status": "ok",
     "timestamp": 1703244295421,
     "user": {
      "displayName": "Daniele Bottazzi",
      "userId": "09764604106651777555"
     },
     "user_tz": -60
    },
    "id": "Ag8AtUs54Xtd",
    "outputId": "eb8418e7-c2ea-4b92-8e37-b5f13418e1a7"
   },
   "outputs": [
    {
     "data": {
      "text/plain": [
       "(25,)"
      ]
     },
     "execution_count": 10,
     "metadata": {},
     "output_type": "execute_result"
    }
   ],
   "source": [
    "# Remove padding from unique seqies\n",
    "valid_series = np.array([row[start:end+1] for row, (start, end) in zip(unique_series, unique_valid_periods)])\n",
    "valid_series[0].shape"
   ]
  },
  {
   "cell_type": "code",
   "execution_count": null,
   "metadata": {
    "colab": {
     "base_uri": "https://localhost:8080/"
    },
    "executionInfo": {
     "elapsed": 13,
     "status": "ok",
     "timestamp": 1703244295422,
     "user": {
      "displayName": "Daniele Bottazzi",
      "userId": "09764604106651777555"
     },
     "user_tz": -60
    },
    "id": "msgYkSMKOqM-",
    "outputId": "d2d92965-fb3d-4e81-f1f0-7790c5cd9acd"
   },
   "outputs": [
    {
     "name": "stdout",
     "output_type": "stream",
     "text": [
      "series_train_val shape: (42343,), categories_train_val shape: (42343,)\n",
      "series_test shape: (4705,), categories_test shape: (4705,)\n",
      "\n",
      "(array(['A', 'B', 'C', 'D', 'E', 'F'], dtype='<U1'), array([5108, 9673, 8785, 8798, 9750,  229]))\n",
      "(array(['A', 'B', 'C', 'D', 'E', 'F'], dtype='<U1'), array([ 568, 1075,  976,  978, 1083,   25]))\n"
     ]
    }
   ],
   "source": [
    "# Split into train_validation and test sets\n",
    "series_train_val, series_test, categories_train_val, categories_test = train_test_split(valid_series, unique_categories, random_state=seed, test_size=0.1, stratify=unique_categories)\n",
    "\n",
    "# Print shapes of the datasets\n",
    "print(f\"series_train_val shape: {series_train_val.shape}, categories_train_val shape: {categories_train_val.shape}\")\n",
    "print(f\"series_test shape: {series_test.shape}, categories_test shape: {categories_test.shape}\\n\")\n",
    "\n",
    "# See if stratification was succesful\n",
    "print(np.unique(categories_train_val, return_counts = True))\n",
    "print(np.unique(categories_test, return_counts = True))"
   ]
  },
  {
   "cell_type": "markdown",
   "metadata": {
    "id": "mtSzHoNCVIQb"
   },
   "source": [
    "### Process data"
   ]
  },
  {
   "cell_type": "code",
   "execution_count": null,
   "metadata": {
    "id": "YJyeEt_pn9qW"
   },
   "outputs": [],
   "source": [
    "def build_sequences_univariate(series_array, categories, window=100, stride=20, telescope=18):\n",
    "    # Sanity check to avoid runtime errors\n",
    "    assert (window + telescope) % stride == 0\n",
    "    sequences = []\n",
    "    future_sequences = []\n",
    "    seq_categories = []\n",
    "\n",
    "    for (i, series) in enumerate(series_array):\n",
    "        series_len = len(series)\n",
    "        padding_check = series_len % (window + telescope)\n",
    "\n",
    "        if padding_check != 0:\n",
    "            # Compute padding length\n",
    "            padding_len = (window + telescope) - series_len % (window + telescope)\n",
    "            padding = np.zeros(padding_len, dtype='float32')\n",
    "\n",
    "            series = np.concatenate((padding, series))\n",
    "            assert len(series) % (window + telescope) == 0\n",
    "\n",
    "        for idx in np.arange(0, len(series) - window, stride):\n",
    "\n",
    "            # Get a slice of window + telescope of the series\n",
    "            series_xy = series[idx:idx + window + telescope]\n",
    "\n",
    "            # Get x\n",
    "            series_x = series_xy[0:window]\n",
    "\n",
    "            # Add to the sequences\n",
    "            sequences.append(series_x)\n",
    "\n",
    "            # Get y\n",
    "            series_y = series_xy[window:window+telescope]\n",
    "\n",
    "            # Add to future sequences\n",
    "            future_sequences.append(series_y)\n",
    "\n",
    "            # Append the category label\n",
    "            seq_categories.append(categories[i])\n",
    "\n",
    "    sequences = np.array(sequences)\n",
    "    future_sequences = np.array(future_sequences)\n",
    "    seq_categories = np.array(seq_categories)\n",
    "\n",
    "    return sequences, future_sequences, seq_categories"
   ]
  },
  {
   "cell_type": "code",
   "execution_count": null,
   "metadata": {
    "id": "MHnaFzS2IF8O"
   },
   "outputs": [],
   "source": [
    "window = 180\n",
    "stride = 22"
   ]
  },
  {
   "cell_type": "code",
   "execution_count": null,
   "metadata": {
    "id": "paZ2hFRUoH1l"
   },
   "outputs": [],
   "source": [
    "telescope = 18\n",
    "direct_telescope = telescope"
   ]
  },
  {
   "cell_type": "code",
   "execution_count": null,
   "metadata": {
    "id": "aTTJYYtboUhQ"
   },
   "outputs": [],
   "source": [
    "X_train_val, y_train_val, seq_categories_train_val = build_sequences_univariate(series_train_val, categories_train_val, window = window, stride = stride, telescope = direct_telescope)"
   ]
  },
  {
   "cell_type": "code",
   "execution_count": null,
   "metadata": {
    "colab": {
     "base_uri": "https://localhost:8080/"
    },
    "executionInfo": {
     "elapsed": 7,
     "status": "ok",
     "timestamp": 1703244298783,
     "user": {
      "displayName": "Daniele Bottazzi",
      "userId": "09764604106651777555"
     },
     "user_tz": -60
    },
    "id": "RsAQ1aoa7nh9",
    "outputId": "a71c9d37-aa3d-417b-cd59-9243a5ca9981"
   },
   "outputs": [
    {
     "name": "stdout",
     "output_type": "stream",
     "text": [
      "(42343,)\n",
      "(42343,)\n",
      "(260161, 180)\n",
      "(260161, 18)\n",
      "(260161,)\n"
     ]
    }
   ],
   "source": [
    "print(series_train_val.shape)\n",
    "print(categories_train_val.shape)\n",
    "print(X_train_val.shape)\n",
    "print(y_train_val.shape)\n",
    "print(seq_categories_train_val.shape)"
   ]
  },
  {
   "cell_type": "code",
   "execution_count": null,
   "metadata": {
    "id": "M_lWELC78seU"
   },
   "outputs": [],
   "source": [
    "X_test, y_test, seq_categories_test = build_sequences_univariate(series_test, categories_test, window = window, stride = stride, telescope = direct_telescope)"
   ]
  },
  {
   "cell_type": "code",
   "execution_count": null,
   "metadata": {
    "colab": {
     "base_uri": "https://localhost:8080/"
    },
    "executionInfo": {
     "elapsed": 8,
     "status": "ok",
     "timestamp": 1703244299839,
     "user": {
      "displayName": "Daniele Bottazzi",
      "userId": "09764604106651777555"
     },
     "user_tz": -60
    },
    "id": "NY5raCwT0hqx",
    "outputId": "b767fc24-983f-4e22-c761-df60a7cab3f6"
   },
   "outputs": [
    {
     "name": "stdout",
     "output_type": "stream",
     "text": [
      "(4705,)\n",
      "(4705,)\n",
      "(30067, 180)\n",
      "(30067, 18)\n",
      "(30067,)\n"
     ]
    }
   ],
   "source": [
    "print(series_test.shape)\n",
    "print(categories_test.shape)\n",
    "print(X_test.shape)\n",
    "print(y_test.shape)\n",
    "print(seq_categories_test.shape)"
   ]
  },
  {
   "cell_type": "code",
   "execution_count": null,
   "metadata": {
    "id": "QX8CdjwylRpM"
   },
   "outputs": [],
   "source": [
    "# Split train_validation sequences into train and validation sets\n",
    "X_train, X_val, y_train, y_val, seq_categories_train, seq_categories_val = train_test_split(X_train_val, y_train_val, seq_categories_train_val,\n",
    "                                                                                            shuffle=True, random_state=seed, test_size=0.2, stratify=seq_categories_train_val)"
   ]
  },
  {
   "cell_type": "code",
   "execution_count": null,
   "metadata": {
    "id": "mBIJZ-wAHDYX"
   },
   "outputs": [],
   "source": [
    "# Expand dimensions\n",
    "X_train = np.expand_dims(X_train, axis=-1)\n",
    "X_val = np.expand_dims(X_val, axis=-1)\n",
    "X_test = np.expand_dims(X_test, axis=-1)\n",
    "\n",
    "y_train = np.expand_dims(y_train, axis=-1)\n",
    "y_val = np.expand_dims(y_val, axis=-1)\n",
    "y_test = np.expand_dims(y_test, axis=-1)"
   ]
  },
  {
   "cell_type": "code",
   "execution_count": null,
   "metadata": {
    "colab": {
     "base_uri": "https://localhost:8080/"
    },
    "executionInfo": {
     "elapsed": 11,
     "status": "ok",
     "timestamp": 1703244304455,
     "user": {
      "displayName": "Daniele Bottazzi",
      "userId": "09764604106651777555"
     },
     "user_tz": -60
    },
    "id": "2Hp1lMwFBvdb",
    "outputId": "3186d5e1-8d5b-4424-c975-07a7c715a681"
   },
   "outputs": [
    {
     "name": "stdout",
     "output_type": "stream",
     "text": [
      "X_train shape: (208128, 180, 1), y_train shape: (208128, 18, 1), seq_categories_train shape: (208128,)\n",
      "X_val shape: (52033, 180, 1), y_val shape: (52033, 18, 1), seq_categories_val shape: (52033,)\n",
      "X_test shape: (30067, 180, 1), y_test shape: (30067, 18, 1), seq_categories_test shape: (30067,)\n",
      "\n",
      "(array(['A', 'B', 'C', 'D', 'E', 'F'], dtype='<U1'), array([37228, 34623, 48399, 49756, 37046,  1076]))\n",
      "(array(['A', 'B', 'C', 'D', 'E', 'F'], dtype='<U1'), array([ 9307,  8656, 12100, 12439,  9262,   269]))\n",
      "(array(['A', 'B', 'C', 'D', 'E', 'F'], dtype='<U1'), array([5500, 4864, 7006, 6927, 5610,  160]))\n"
     ]
    }
   ],
   "source": [
    "# Print shapes of the sequences datasets\n",
    "print(f\"X_train shape: {X_train.shape}, y_train shape: {y_train.shape}, seq_categories_train shape: {seq_categories_train.shape}\")\n",
    "print(f\"X_val shape: {X_val.shape}, y_val shape: {y_val.shape}, seq_categories_val shape: {seq_categories_val.shape}\")\n",
    "print(f\"X_test shape: {X_test.shape}, y_test shape: {y_test.shape}, seq_categories_test shape: {seq_categories_test.shape}\\n\")\n",
    "\n",
    "# See if stratification was succesful\n",
    "print(np.unique(seq_categories_train, return_counts = True))\n",
    "print(np.unique(seq_categories_val, return_counts = True))\n",
    "print(np.unique(seq_categories_test, return_counts = True))"
   ]
  },
  {
   "cell_type": "markdown",
   "metadata": {
    "id": "SKxqNpKFoJM_"
   },
   "source": [
    "### Univariate Forecating (Direct)"
   ]
  },
  {
   "cell_type": "code",
   "execution_count": null,
   "metadata": {
    "id": "dDv1PCh99_nv"
   },
   "outputs": [],
   "source": [
    "def inspect_univariate(X, y, telescope, idx = 42):\n",
    "    plt.plot(np.arange(len(X[idx])), X[idx])\n",
    "    plt.scatter(np.arange(len(X[idx]), len(X[idx]) + telescope), y[idx], color='orange', s = 5)\n",
    "    plt.ylim(0,1)\n",
    "    plt.show()"
   ]
  },
  {
   "cell_type": "code",
   "execution_count": null,
   "metadata": {
    "colab": {
     "base_uri": "https://localhost:8080/",
     "height": 435
    },
    "executionInfo": {
     "elapsed": 1047,
     "status": "ok",
     "timestamp": 1703244308362,
     "user": {
      "displayName": "Daniele Bottazzi",
      "userId": "09764604106651777555"
     },
     "user_tz": -60
    },
    "id": "EPGK1vu4-bp-",
    "outputId": "5cce154b-77f9-4dd4-fca3-d99874f7f1a2"
   },
   "outputs": [
    {
     "data": {
      "image/png": "[encoded data removed]",
      "text/plain": [
       "<Figure size 640x480 with 1 Axes>"
      ]
     },
     "metadata": {},
     "output_type": "display_data"
    }
   ],
   "source": [
    "inspect_univariate(X_train, y_train, direct_telescope, idx = 122)"
   ]
  },
  {
   "cell_type": "code",
   "execution_count": null,
   "metadata": {
    "id": "IItrn_r-FiBs"
   },
   "outputs": [],
   "source": [
    "input_shape  = X_train.shape[1:]\n",
    "output_shape = y_train.shape[1:]\n",
    "\n",
    "batch_size = 1024\n",
    "epochs = 200"
   ]
  },
  {
   "cell_type": "code",
   "execution_count": null,
   "metadata": {
    "id": "zJQET7iZNm4o"
   },
   "outputs": [],
   "source": [
    "inputs = tfkl.Input(shape=input_shape, name='input_layer')\n",
    "\n",
    "# LSTM layer\n",
    "lstm_output = tfkl.LSTM(64, return_sequences=True, activation='relu')(inputs)\n",
    "\n",
    "# Attention layer\n",
    "attention_output = tfkl.MultiHeadAttention(num_heads=8, key_dim=1)(lstm_output, lstm_output, lstm_output)\n",
    "\n",
    "# Additional layers after attention\n",
    "dropout_1 = tfkl.Dropout(0.2, name='dropout_1')(attention_output)\n",
    "lstm_2 = tfkl.Bidirectional(tfkl.LSTM(64, return_sequences=True), name='bi_lstm_2')(dropout_1)\n",
    "dropout_2 = tfkl.Dropout(0.2, name='dropout_2')(lstm_2)\n",
    "output = tfkl.Dense(output_shape[0], name='dense')(dropout_2)\n",
    "\n",
    "model = tfk.Model(inputs=inputs, outputs=output, name='bi_LSTM_model')"
   ]
  },
  {
   "cell_type": "code",
   "execution_count": null,
   "metadata": {
    "id": "bJy9KZ3e8XfC"
   },
   "outputs": [],
   "source": [
    "model.compile(loss=tf.keras.losses.MeanAbsoluteError(), optimizer=tf.keras.optimizers.Adam(learning_rate=2e-3))"
   ]
  },
  {
   "cell_type": "code",
   "execution_count": null,
   "metadata": {
    "colab": {
     "base_uri": "https://localhost:8080/",
     "height": 1000
    },
    "executionInfo": {
     "elapsed": 29,
     "status": "ok",
     "timestamp": 1703244418371,
     "user": {
      "displayName": "Daniele Bottazzi",
      "userId": "09764604106651777555"
     },
     "user_tz": -60
    },
    "id": "PwDrPO5KFnYJ",
    "outputId": "191c3306-1e34-4f7f-fb98-4bb3f571c22d"
   },
   "outputs": [
    {
     "name": "stdout",
     "output_type": "stream",
     "text": [
      "Model: \"bi_LSTM_model\"\n",
      "__________________________________________________________________________________________________\n",
      " Layer (type)                Output Shape                 Param #   Connected to                  \n",
      "==================================================================================================\n",
      " input_layer (InputLayer)    [(None, 180, 1)]             0         []                            \n",
      "                                                                                                  \n",
      " lstm (LSTM)                 (None, 180, 64)              16896     ['input_layer[0][0]']         \n",
      "                                                                                                  \n",
      " multi_head_attention (Mult  (None, 180, 64)              2136      ['lstm[0][0]',                \n",
      " iHeadAttention)                                                     'lstm[0][0]',                \n",
      "                                                                     'lstm[0][0]']                \n",
      "                                                                                                  \n",
      " dropout_1 (Dropout)         (None, 180, 64)              0         ['multi_head_attention[0][0]']\n",
      "                                                                                                  \n",
      " bi_lstm_2 (Bidirectional)   (None, 180, 128)             66048     ['dropout_1[0][0]']           \n",
      "                                                                                                  \n",
      " dropout_2 (Dropout)         (None, 180, 128)             0         ['bi_lstm_2[0][0]']           \n",
      "                                                                                                  \n",
      " dense (Dense)               (None, 180, 18)              2322      ['dropout_2[0][0]']           \n",
      "                                                                                                  \n",
      "==================================================================================================\n",
      "Total params: 87402 (341.41 KB)\n",
      "Trainable params: 87402 (341.41 KB)\n",
      "Non-trainable params: 0 (0.00 Byte)\n",
      "__________________________________________________________________________________________________\n"
     ]
    },
    {
     "data": {
      "image/png": "[encoded data removed]",
      "text/plain": [
       "<IPython.core.display.Image object>"
      ]
     },
     "execution_count": 30,
     "metadata": {},
     "output_type": "execute_result"
    }
   ],
   "source": [
    "model.summary()\n",
    "tfk.utils.plot_model(model, expand_nested=True, show_shapes=True)"
   ]
  },
  {
   "cell_type": "code",
   "execution_count": null,
   "metadata": {
    "colab": {
     "base_uri": "https://localhost:8080/"
    },
    "executionInfo": {
     "elapsed": 5237168,
     "status": "ok",
     "timestamp": 1702745972515,
     "user": {
      "displayName": "Daniele Bottazzi",
      "userId": "09764604106651777555"
     },
     "user_tz": -60
    },
    "id": "pAW9a7_MFpZF",
    "outputId": "190ff0cd-9b38-4c69-ba4e-7af6ac50aabb"
   },
   "outputs": [
    {
     "name": "stdout",
     "output_type": "stream",
     "text": [
      "Epoch 1/200\n",
      "204/204 [==============================] - 128s 360ms/step - loss: 0.1653 - val_loss: 0.1051 - lr: 0.0020\n",
      "Epoch 2/200\n",
      "204/204 [==============================] - 74s 362ms/step - loss: 0.1060 - val_loss: 0.0892 - lr: 0.0020\n",
      "Epoch 3/200\n",
      "204/204 [==============================] - 71s 349ms/step - loss: 0.0938 - val_loss: 0.0857 - lr: 0.0020\n",
      "Epoch 4/200\n",
      "204/204 [==============================] - 69s 340ms/step - loss: 0.0895 - val_loss: 0.0831 - lr: 0.0020\n",
      "Epoch 5/200\n",
      "204/204 [==============================] - 70s 342ms/step - loss: 0.0867 - val_loss: 0.0857 - lr: 0.0020\n",
      "Epoch 6/200\n",
      "204/204 [==============================] - 68s 334ms/step - loss: 0.0845 - val_loss: 0.0783 - lr: 0.0020\n",
      "Epoch 7/200\n",
      "204/204 [==============================] - 79s 388ms/step - loss: 0.0815 - val_loss: 0.0812 - lr: 0.0020\n",
      "Epoch 8/200\n",
      "204/204 [==============================] - 68s 335ms/step - loss: 0.0801 - val_loss: 0.0791 - lr: 0.0020\n",
      "Epoch 9/200\n",
      "204/204 [==============================] - 71s 347ms/step - loss: 0.0792 - val_loss: 0.0761 - lr: 0.0020\n",
      "Epoch 10/200\n",
      "204/204 [==============================] - 70s 343ms/step - loss: 0.0781 - val_loss: 0.0739 - lr: 0.0020\n",
      "Epoch 11/200\n",
      "204/204 [==============================] - 69s 338ms/step - loss: 0.0778 - val_loss: 0.0752 - lr: 0.0020\n",
      "Epoch 12/200\n",
      "204/204 [==============================] - 70s 345ms/step - loss: 0.0770 - val_loss: 0.0750 - lr: 0.0020\n",
      "Epoch 13/200\n",
      "204/204 [==============================] - 69s 338ms/step - loss: 0.0765 - val_loss: 0.0755 - lr: 0.0020\n",
      "Epoch 14/200\n",
      "204/204 [==============================] - 73s 358ms/step - loss: 0.0759 - val_loss: 0.0770 - lr: 0.0020\n",
      "Epoch 15/200\n",
      "204/204 [==============================] - 70s 343ms/step - loss: 0.0752 - val_loss: 0.0721 - lr: 0.0020\n",
      "Epoch 16/200\n",
      "204/204 [==============================] - 70s 342ms/step - loss: 0.0746 - val_loss: 0.0760 - lr: 0.0020\n",
      "Epoch 17/200\n",
      "204/204 [==============================] - 69s 337ms/step - loss: 0.0740 - val_loss: 0.0707 - lr: 0.0020\n",
      "Epoch 18/200\n",
      "204/204 [==============================] - 70s 346ms/step - loss: 0.0735 - val_loss: 0.0708 - lr: 0.0020\n",
      "Epoch 19/200\n",
      "204/204 [==============================] - 68s 334ms/step - loss: 0.0730 - val_loss: 0.0710 - lr: 0.0020\n",
      "Epoch 20/200\n",
      "204/204 [==============================] - 73s 358ms/step - loss: 0.0725 - val_loss: 0.0693 - lr: 0.0020\n",
      "Epoch 21/200\n",
      "204/204 [==============================] - 71s 347ms/step - loss: 0.0723 - val_loss: 0.0688 - lr: 0.0020\n",
      "Epoch 22/200\n",
      "204/204 [==============================] - 72s 355ms/step - loss: 0.0719 - val_loss: 0.0728 - lr: 0.0020\n",
      "Epoch 23/200\n",
      "204/204 [==============================] - 72s 351ms/step - loss: 0.0718 - val_loss: 0.0686 - lr: 0.0020\n",
      "Epoch 24/200\n",
      "204/204 [==============================] - 72s 355ms/step - loss: 0.0713 - val_loss: 0.0684 - lr: 0.0020\n",
      "Epoch 25/200\n",
      "204/204 [==============================] - 69s 338ms/step - loss: 0.0712 - val_loss: 0.0697 - lr: 0.0020\n",
      "Epoch 26/200\n",
      "204/204 [==============================] - 71s 348ms/step - loss: 0.0709 - val_loss: 0.0681 - lr: 0.0020\n",
      "Epoch 27/200\n",
      "204/204 [==============================] - 70s 343ms/step - loss: 0.0707 - val_loss: 0.0679 - lr: 0.0020\n",
      "Epoch 28/200\n",
      "204/204 [==============================] - 69s 338ms/step - loss: 0.0709 - val_loss: 0.0681 - lr: 0.0020\n",
      "Epoch 29/200\n",
      "204/204 [==============================] - 74s 361ms/step - loss: 0.0705 - val_loss: 0.0683 - lr: 0.0020\n",
      "Epoch 30/200\n",
      "204/204 [==============================] - 71s 346ms/step - loss: 0.0702 - val_loss: 0.0709 - lr: 0.0020\n",
      "Epoch 31/200\n",
      "204/204 [==============================] - 69s 337ms/step - loss: 0.0701 - val_loss: 0.0668 - lr: 0.0020\n",
      "Epoch 32/200\n",
      "204/204 [==============================] - 70s 344ms/step - loss: 0.0699 - val_loss: 0.0682 - lr: 0.0020\n",
      "Epoch 33/200\n",
      "204/204 [==============================] - 68s 333ms/step - loss: 0.0697 - val_loss: 0.0680 - lr: 0.0020\n",
      "Epoch 34/200\n",
      "204/204 [==============================] - 70s 343ms/step - loss: 0.0695 - val_loss: 0.0716 - lr: 0.0020\n",
      "Epoch 35/200\n",
      "204/204 [==============================] - 70s 343ms/step - loss: 0.0696 - val_loss: 0.0751 - lr: 0.0020\n",
      "Epoch 36/200\n",
      "204/204 [==============================] - 68s 331ms/step - loss: 0.0693 - val_loss: 0.0685 - lr: 0.0020\n",
      "Epoch 37/200\n",
      "204/204 [==============================] - 71s 349ms/step - loss: 0.0692 - val_loss: 0.0665 - lr: 0.0020\n",
      "Epoch 38/200\n",
      "204/204 [==============================] - 68s 332ms/step - loss: 0.0690 - val_loss: 0.0690 - lr: 0.0020\n",
      "Epoch 39/200\n",
      "204/204 [==============================] - 70s 344ms/step - loss: 0.0689 - val_loss: 0.0718 - lr: 0.0020\n",
      "Epoch 40/200\n",
      "204/204 [==============================] - 70s 345ms/step - loss: 0.0687 - val_loss: 0.0665 - lr: 0.0020\n",
      "Epoch 41/200\n",
      "204/204 [==============================] - 68s 335ms/step - loss: 0.0685 - val_loss: 0.0673 - lr: 0.0020\n",
      "Epoch 42/200\n",
      "204/204 [==============================] - 70s 341ms/step - loss: 0.0686 - val_loss: 0.0672 - lr: 0.0020\n",
      "Epoch 43/200\n",
      "204/204 [==============================] - 68s 333ms/step - loss: 0.0685 - val_loss: 0.0689 - lr: 0.0020\n",
      "Epoch 44/200\n",
      "204/204 [==============================] - 74s 361ms/step - loss: 0.0683 - val_loss: 0.0656 - lr: 0.0020\n",
      "Epoch 45/200\n",
      "204/204 [==============================] - 68s 335ms/step - loss: 0.0681 - val_loss: 0.0667 - lr: 0.0020\n",
      "Epoch 46/200\n",
      "204/204 [==============================] - 69s 340ms/step - loss: 0.0682 - val_loss: 0.0659 - lr: 0.0020\n",
      "Epoch 47/200\n",
      "204/204 [==============================] - 68s 335ms/step - loss: 0.0684 - val_loss: 0.0662 - lr: 0.0020\n",
      "Epoch 48/200\n",
      "204/204 [==============================] - 69s 336ms/step - loss: 0.0678 - val_loss: 0.0669 - lr: 0.0020\n",
      "Epoch 49/200\n",
      "204/204 [==============================] - 69s 341ms/step - loss: 0.0678 - val_loss: 0.0681 - lr: 0.0020\n",
      "Epoch 50/200\n",
      "204/204 [==============================] - 67s 330ms/step - loss: 0.0675 - val_loss: 0.0666 - lr: 0.0020\n",
      "Epoch 51/200\n",
      "204/204 [==============================] - 72s 353ms/step - loss: 0.0676 - val_loss: 0.0667 - lr: 0.0020\n",
      "Epoch 52/200\n",
      "204/204 [==============================] - 67s 330ms/step - loss: 0.0662 - val_loss: 0.0645 - lr: 4.0000e-04\n",
      "Epoch 53/200\n",
      "204/204 [==============================] - 69s 339ms/step - loss: 0.0660 - val_loss: 0.0654 - lr: 4.0000e-04\n",
      "Epoch 54/200\n",
      "204/204 [==============================] - 68s 333ms/step - loss: 0.0659 - val_loss: 0.0646 - lr: 4.0000e-04\n",
      "Epoch 55/200\n",
      "204/204 [==============================] - 70s 343ms/step - loss: 0.0658 - val_loss: 0.0650 - lr: 4.0000e-04\n",
      "Epoch 56/200\n",
      "204/204 [==============================] - 70s 343ms/step - loss: 0.0659 - val_loss: 0.0655 - lr: 4.0000e-04\n",
      "Epoch 57/200\n",
      "204/204 [==============================] - 71s 346ms/step - loss: 0.0657 - val_loss: 0.0655 - lr: 4.0000e-04\n",
      "Epoch 58/200\n",
      "204/204 [==============================] - 72s 356ms/step - loss: 0.0657 - val_loss: 0.0649 - lr: 4.0000e-04\n",
      "Epoch 59/200\n",
      "204/204 [==============================] - 70s 343ms/step - loss: 0.0657 - val_loss: 0.0652 - lr: 4.0000e-04\n",
      "Epoch 60/200\n",
      "204/204 [==============================] - 68s 332ms/step - loss: 0.0653 - val_loss: 0.0645 - lr: 8.0000e-05\n",
      "Epoch 61/200\n",
      "204/204 [==============================] - 71s 347ms/step - loss: 0.0652 - val_loss: 0.0644 - lr: 8.0000e-05\n",
      "Epoch 62/200\n",
      "204/204 [==============================] - 70s 341ms/step - loss: 0.0653 - val_loss: 0.0642 - lr: 8.0000e-05\n",
      "Epoch 63/200\n",
      "204/204 [==============================] - 69s 335ms/step - loss: 0.0652 - val_loss: 0.0647 - lr: 8.0000e-05\n",
      "Epoch 64/200\n",
      "204/204 [==============================] - 70s 341ms/step - loss: 0.0652 - val_loss: 0.0650 - lr: 8.0000e-05\n",
      "Epoch 65/200\n",
      "204/204 [==============================] - 70s 344ms/step - loss: 0.0652 - val_loss: 0.0646 - lr: 8.0000e-05\n",
      "Epoch 66/200\n",
      "204/204 [==============================] - 70s 341ms/step - loss: 0.0652 - val_loss: 0.0644 - lr: 8.0000e-05\n",
      "Epoch 67/200\n",
      "204/204 [==============================] - 68s 333ms/step - loss: 0.0652 - val_loss: 0.0646 - lr: 8.0000e-05\n",
      "Epoch 68/200\n",
      "204/204 [==============================] - 71s 346ms/step - loss: 0.0652 - val_loss: 0.0644 - lr: 8.0000e-05\n",
      "Epoch 69/200\n",
      "204/204 [==============================] - 70s 344ms/step - loss: 0.0651 - val_loss: 0.0646 - lr: 8.0000e-05\n",
      "Epoch 70/200\n",
      "204/204 [==============================] - 69s 339ms/step - loss: 0.0651 - val_loss: 0.0644 - lr: 1.6000e-05\n",
      "Epoch 71/200\n",
      "204/204 [==============================] - 71s 348ms/step - loss: 0.0651 - val_loss: 0.0645 - lr: 1.6000e-05\n",
      "Epoch 72/200\n",
      "204/204 [==============================] - 70s 344ms/step - loss: 0.0651 - val_loss: 0.0644 - lr: 1.6000e-05\n",
      "Epoch 73/200\n",
      "204/204 [==============================] - 69s 337ms/step - loss: 0.0651 - val_loss: 0.0643 - lr: 1.6000e-05\n",
      "Epoch 74/200\n",
      "204/204 [==============================] - 70s 342ms/step - loss: 0.0650 - val_loss: 0.0643 - lr: 1.6000e-05\n"
     ]
    }
   ],
   "source": [
    "# Train the model\n",
    "history = model.fit(\n",
    "    x = X_train,\n",
    "    y = y_train,\n",
    "    batch_size = batch_size,\n",
    "    epochs = epochs,\n",
    "    validation_data=(X_val, y_val),\n",
    "    callbacks = [\n",
    "        tfk.callbacks.EarlyStopping(monitor='val_loss', mode='min', patience=12, restore_best_weights=True,min_delta=1e-4),\n",
    "        tfk.callbacks.ReduceLROnPlateau(monitor='val_loss', mode='min', patience=7, factor=0.2, min_lr=1e-5,min_delta=1e-4)\n",
    "    ]\n",
    ").history"
   ]
  },
  {
   "cell_type": "code",
   "execution_count": null,
   "metadata": {
    "colab": {
     "base_uri": "https://localhost:8080/",
     "height": 665
    },
    "executionInfo": {
     "elapsed": 552,
     "status": "ok",
     "timestamp": 1702655063271,
     "user": {
      "displayName": "Daniele Bottazzi",
      "userId": "09764604106651777555"
     },
     "user_tz": -60
    },
    "id": "GOvXRdMwFrgV",
    "outputId": "e1fd97bd-6e61-4e4d-f5e6-ce2ee16c26c3"
   },
   "outputs": [
    {
     "data": {
      "image/png": "[encoded data removed]",
      "text/plain": [
       "<Figure size 1700x400 with 1 Axes>"
      ]
     },
     "metadata": {},
     "output_type": "display_data"
    },
    {
     "data": {
      "image/png": "[encoded data removed]",
      "text/plain": [
       "<Figure size 1800x300 with 1 Axes>"
      ]
     },
     "metadata": {},
     "output_type": "display_data"
    }
   ],
   "source": [
    "best_epoch = np.argmin(history['val_loss'])\n",
    "plt.figure(figsize=(17,4))\n",
    "plt.plot(history['loss'], label='Training loss', alpha=.8, color='#ff7f0e')\n",
    "plt.plot(history['val_loss'], label='Validation loss', alpha=.9, color='#5a9aa5')\n",
    "plt.axvline(x=best_epoch, label='Best epoch', alpha=.3, ls='--', color='#5a9aa5')\n",
    "plt.title('Mean Squared Error')\n",
    "plt.legend()\n",
    "plt.grid(alpha=.3)\n",
    "plt.show()\n",
    "\n",
    "plt.figure(figsize=(18,3))\n",
    "plt.plot(history['lr'], label='Learning Rate', alpha=.8, color='#ff7f0e')\n",
    "plt.axvline(x=best_epoch, label='Best epoch', alpha=.3, ls='--', color='#5a9aa5')\n",
    "plt.legend()\n",
    "plt.grid(alpha=.3)\n",
    "plt.show()"
   ]
  },
  {
   "cell_type": "code",
   "execution_count": null,
   "metadata": {
    "id": "JgB-EtAUw3iW"
   },
   "outputs": [],
   "source": [
    "model.save('DirectForecasting_180_18_22_RLROP-factor-05_filt_02_stacked_conv_attention')"
   ]
  },
  {
   "cell_type": "code",
   "execution_count": null,
   "metadata": {
    "id": "whj6Z7LiFwVk"
   },
   "outputs": [],
   "source": [
    "model = tfk.models.load_model('DirectForecasting_180_18_22_RLROP-factor-05_filt_02_stacked_conv_attention')"
   ]
  },
  {
   "cell_type": "code",
   "execution_count": null,
   "metadata": {
    "id": "0ISrLhrhqvOZ"
   },
   "outputs": [],
   "source": [
    "# Predict the test set using the model\n",
    "predictions = model.predict(X_test, verbose=0)"
   ]
  },
  {
   "cell_type": "code",
   "execution_count": null,
   "metadata": {
    "colab": {
     "base_uri": "https://localhost:8080/"
    },
    "executionInfo": {
     "elapsed": 466,
     "status": "ok",
     "timestamp": 1702746149382,
     "user": {
      "displayName": "Daniele Bottazzi",
      "userId": "09764604106651777555"
     },
     "user_tz": -60
    },
    "id": "G2MDT3InRChW",
    "outputId": "206ef756-d650-4c1d-d2ad-7b756d31e385"
   },
   "outputs": [
    {
     "name": "stdout",
     "output_type": "stream",
     "text": [
      "Predictions shape: (30067, 9)\n",
      "Mean Squared Error: 0.0075596654787659645\n",
      "Mean Absolute Error: 0.051989372819662094\n"
     ]
    }
   ],
   "source": [
    "predictions_9 = predictions[:, 0:9]\n",
    "# Print the shape of the predictions\n",
    "print(f\"Predictions shape: {predictions_9.shape}\")\n",
    "\n",
    "# Calculate and print Mean Squared Error (MSE)\n",
    "mean_squared_error = tfk.metrics.mean_squared_error(y_test[:, 0:9, :].flatten(), predictions_9.flatten()).numpy()\n",
    "print(f\"Mean Squared Error: {mean_squared_error}\")\n",
    "\n",
    "# Calculate and print Mean Absolute Error (MAE)\n",
    "mean_absolute_error = tfk.metrics.mean_absolute_error(y_test[:, 0:9, :].flatten(), predictions_9.flatten()).numpy()\n",
    "print(f\"Mean Absolute Error: {mean_absolute_error}\")"
   ]
  },
  {
   "cell_type": "code",
   "execution_count": null,
   "metadata": {
    "colab": {
     "base_uri": "https://localhost:8080/"
    },
    "executionInfo": {
     "elapsed": 5,
     "status": "ok",
     "timestamp": 1702746149382,
     "user": {
      "displayName": "Daniele Bottazzi",
      "userId": "09764604106651777555"
     },
     "user_tz": -60
    },
    "id": "tKwcnpHFREZH",
    "outputId": "8da1876e-5c88-479d-8c30-1ea7fb27d0f3"
   },
   "outputs": [
    {
     "name": "stdout",
     "output_type": "stream",
     "text": [
      "Predictions shape: (30067, 18)\n",
      "Mean Squared Error: 0.010503952391445637\n",
      "Mean Absolute Error: 0.06354103237390518\n"
     ]
    }
   ],
   "source": [
    "# Print the shape of the predictions\n",
    "print(f\"Predictions shape: {predictions.shape}\")\n",
    "\n",
    "# Calculate and print Mean Squared Error (MSE)\n",
    "mean_squared_error = tfk.metrics.mean_squared_error(y_test.flatten(), predictions.flatten()).numpy()\n",
    "print(f\"Mean Squared Error: {mean_squared_error}\")\n",
    "\n",
    "# Calculate and print Mean Absolute Error (MAE)\n",
    "mean_absolute_error = tfk.metrics.mean_absolute_error(y_test.flatten(), predictions.flatten()).numpy()\n",
    "print(f\"Mean Absolute Error: {mean_absolute_error}\")"
   ]
  },
  {
   "cell_type": "markdown",
   "metadata": {
    "id": "nSFQ910CYs6T"
   },
   "source": [
    "## `model.py`"
   ]
  },
  {
   "cell_type": "code",
   "execution_count": null,
   "metadata": {
    "id": "Bohzjsd8YtmL"
   },
   "outputs": [],
   "source": [
    "%%writefile model.py\n",
    "import os\n",
    "import tensorflow as tf\n",
    "\n",
    "class model:\n",
    "    def _init_(self, path):\n",
    "        self.model = tf.keras.models.load_model(os.path.join(path, 'SubmissionModel'))\n",
    "\n",
    "    def predict(self, X, categories):\n",
    "\n",
    "        out = self.model.predict(X[:,-180:])  # Shape [BSx9] for Phase 1 and [BSx18] for Phase 2\n",
    "        out = out.reshape(-1, 18)\n",
    "\n",
    "        return out"
   ]
  }
 ],
 "metadata": {
  "accelerator": "GPU",
  "colab": {
   "gpuType": "V100",
   "provenance": [
    {
     "file_id": "1Y7ASbEeTzNk9kPt_oFIA4CPC3mY7DX0b",
     "timestamp": 1703243975264
    }
   ]
  },
  "kernelspec": {
   "display_name": "Python 3",
   "name": "python3"
  },
  "language_info": {
   "codemirror_mode": {
    "name": "ipython",
    "version": 3
   },
   "file_extension": ".py",
   "mimetype": "text/x-python",
   "name": "python",
   "nbconvert_exporter": "python",
   "pygments_lexer": "ipython3",
   "version": "3.8.8"
  }
 },
 "nbformat": 4,
 "nbformat_minor": 0
}
